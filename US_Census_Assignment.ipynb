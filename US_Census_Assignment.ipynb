{
 "cells": [
  {
   "cell_type": "code",
   "execution_count": 89,
   "metadata": {},
   "outputs": [],
   "source": [
    "import numpy as np\n",
    "import pandas as pd\n",
    "import re\n",
    "import matplotlib.pyplot as plt"
   ]
  },
  {
   "cell_type": "code",
   "execution_count": 66,
   "metadata": {},
   "outputs": [],
   "source": [
    "us_census = pd.read_csv(\"states0.csv\")\n",
    "for i in range(1,10):\n",
    "    filename = \"states\" + str(i) + \".csv\"\n",
    "    df = pd.read_csv(filename)\n",
    "    us_census = pd.concat([us_census,df])\n",
    "    \n",
    "\n"
   ]
  },
  {
   "cell_type": "code",
   "execution_count": 67,
   "metadata": {},
   "outputs": [],
   "source": [
    "us_census.drop_duplicates(keep = \"first\",inplace = True)\n"
   ]
  },
  {
   "cell_type": "code",
   "execution_count": 118,
   "metadata": {},
   "outputs": [],
   "source": [
    "us_census.drop(columns = [\"Unnamed: 0\"], inplace = True)"
   ]
  },
  {
   "cell_type": "code",
   "execution_count": 68,
   "metadata": {},
   "outputs": [],
   "source": [
    "new_index = list(range(len(us_census)))\n"
   ]
  },
  {
   "cell_type": "code",
   "execution_count": 69,
   "metadata": {},
   "outputs": [],
   "source": [
    "us_census.index = new_index"
   ]
  },
  {
   "cell_type": "code",
   "execution_count": 76,
   "metadata": {},
   "outputs": [
    {
     "data": {
      "text/plain": [
       "Unnamed: 0      int64\n",
       "State          object\n",
       "TotalPop        int64\n",
       "Hispanic      float64\n",
       "White         float64\n",
       "Black         float64\n",
       "Native        float64\n",
       "Asian         float64\n",
       "Pacific       float64\n",
       "Income        float64\n",
       "GenderPop      object\n",
       "Male            int64\n",
       "Female        float64\n",
       "dtype: object"
      ]
     },
     "execution_count": 76,
     "metadata": {},
     "output_type": "execute_result"
    }
   ],
   "source": [
    "us_census.dtypes"
   ]
  },
  {
   "cell_type": "code",
   "execution_count": 71,
   "metadata": {},
   "outputs": [],
   "source": [
    "us_census[\"Income\"] = us_census[\"Income\"].str.replace(\"$\",\"\")\n",
    "us_census[\"Hispanic\"] = us_census[\"Hispanic\"].str.replace(\"%\",\"\")\n",
    "us_census[\"White\"] = us_census[\"White\"].str.replace(\"%\",\"\")\n",
    "us_census[\"Black\"] = us_census[\"Black\"].str.replace(\"%\",\"\")\n",
    "us_census[\"Native\"] = us_census[\"Native\"].str.replace(\"%\",\"\")\n",
    "us_census[\"Asian\"] = us_census[\"Asian\"].str.replace(\"%\",\"\")\n",
    "us_census[\"Pacific\"] = us_census[\"Pacific\"].str.replace(\"%\",\"\")"
   ]
  },
  {
   "cell_type": "code",
   "execution_count": 72,
   "metadata": {},
   "outputs": [],
   "source": [
    "us_census[[\"Male\",\"Female\"]] = us_census[\"GenderPop\"].str.split(\"_\",expand = True)"
   ]
  },
  {
   "cell_type": "code",
   "execution_count": 73,
   "metadata": {},
   "outputs": [],
   "source": [
    "us_census[\"Male\"] = us_census[\"Male\"].str.replace(\"M\",\"\")\n",
    "us_census[\"Female\"] = us_census[\"Female\"].str.replace(\"F\",\"\")"
   ]
  },
  {
   "cell_type": "code",
   "execution_count": 119,
   "metadata": {},
   "outputs": [
    {
     "data": {
      "text/html": [
       "<div>\n",
       "<style scoped>\n",
       "    .dataframe tbody tr th:only-of-type {\n",
       "        vertical-align: middle;\n",
       "    }\n",
       "\n",
       "    .dataframe tbody tr th {\n",
       "        vertical-align: top;\n",
       "    }\n",
       "\n",
       "    .dataframe thead th {\n",
       "        text-align: right;\n",
       "    }\n",
       "</style>\n",
       "<table border=\"1\" class=\"dataframe\">\n",
       "  <thead>\n",
       "    <tr style=\"text-align: right;\">\n",
       "      <th></th>\n",
       "      <th>State</th>\n",
       "      <th>TotalPop</th>\n",
       "      <th>Hispanic</th>\n",
       "      <th>White</th>\n",
       "      <th>Black</th>\n",
       "      <th>Native</th>\n",
       "      <th>Asian</th>\n",
       "      <th>Pacific</th>\n",
       "      <th>Income</th>\n",
       "      <th>GenderPop</th>\n",
       "      <th>Male</th>\n",
       "      <th>Female</th>\n",
       "    </tr>\n",
       "  </thead>\n",
       "  <tbody>\n",
       "    <tr>\n",
       "      <th>0</th>\n",
       "      <td>Alabama</td>\n",
       "      <td>4830620</td>\n",
       "      <td>3.751616</td>\n",
       "      <td>61.878656</td>\n",
       "      <td>31.252976</td>\n",
       "      <td>0.453231</td>\n",
       "      <td>1.050255</td>\n",
       "      <td>0.034354</td>\n",
       "      <td>43296.358603</td>\n",
       "      <td>2341093M_2489527F</td>\n",
       "      <td>2341093.0</td>\n",
       "      <td>2489527.0</td>\n",
       "    </tr>\n",
       "    <tr>\n",
       "      <th>1</th>\n",
       "      <td>Alaska</td>\n",
       "      <td>733375</td>\n",
       "      <td>5.909581</td>\n",
       "      <td>60.910180</td>\n",
       "      <td>2.848503</td>\n",
       "      <td>16.391018</td>\n",
       "      <td>5.450299</td>\n",
       "      <td>1.058683</td>\n",
       "      <td>70354.743902</td>\n",
       "      <td>384160M_349215F</td>\n",
       "      <td>384160.0</td>\n",
       "      <td>349215.0</td>\n",
       "    </tr>\n",
       "    <tr>\n",
       "      <th>2</th>\n",
       "      <td>Arizona</td>\n",
       "      <td>6641928</td>\n",
       "      <td>29.565921</td>\n",
       "      <td>57.120000</td>\n",
       "      <td>3.850987</td>\n",
       "      <td>4.355066</td>\n",
       "      <td>2.876579</td>\n",
       "      <td>0.167632</td>\n",
       "      <td>54207.820955</td>\n",
       "      <td>3299088M_3342840F</td>\n",
       "      <td>3299088.0</td>\n",
       "      <td>3342840.0</td>\n",
       "    </tr>\n",
       "    <tr>\n",
       "      <th>3</th>\n",
       "      <td>Arkansas</td>\n",
       "      <td>2958208</td>\n",
       "      <td>6.215474</td>\n",
       "      <td>71.137810</td>\n",
       "      <td>18.968759</td>\n",
       "      <td>0.522920</td>\n",
       "      <td>1.142336</td>\n",
       "      <td>0.146861</td>\n",
       "      <td>41935.633968</td>\n",
       "      <td>1451913M_1506295F</td>\n",
       "      <td>1451913.0</td>\n",
       "      <td>1506295.0</td>\n",
       "    </tr>\n",
       "    <tr>\n",
       "      <th>4</th>\n",
       "      <td>California</td>\n",
       "      <td>38421464</td>\n",
       "      <td>37.291875</td>\n",
       "      <td>40.215789</td>\n",
       "      <td>5.677396</td>\n",
       "      <td>0.405292</td>\n",
       "      <td>13.052234</td>\n",
       "      <td>0.351410</td>\n",
       "      <td>67264.782303</td>\n",
       "      <td>19087135M_19334329F</td>\n",
       "      <td>19087135.0</td>\n",
       "      <td>19334329.0</td>\n",
       "    </tr>\n",
       "  </tbody>\n",
       "</table>\n",
       "</div>"
      ],
      "text/plain": [
       "        State  TotalPop   Hispanic      White      Black     Native  \\\n",
       "0     Alabama   4830620   3.751616  61.878656  31.252976   0.453231   \n",
       "1      Alaska    733375   5.909581  60.910180   2.848503  16.391018   \n",
       "2     Arizona   6641928  29.565921  57.120000   3.850987   4.355066   \n",
       "3    Arkansas   2958208   6.215474  71.137810  18.968759   0.522920   \n",
       "4  California  38421464  37.291875  40.215789   5.677396   0.405292   \n",
       "\n",
       "       Asian   Pacific        Income            GenderPop        Male  \\\n",
       "0   1.050255  0.034354  43296.358603    2341093M_2489527F   2341093.0   \n",
       "1   5.450299  1.058683  70354.743902      384160M_349215F    384160.0   \n",
       "2   2.876579  0.167632  54207.820955    3299088M_3342840F   3299088.0   \n",
       "3   1.142336  0.146861  41935.633968    1451913M_1506295F   1451913.0   \n",
       "4  13.052234  0.351410  67264.782303  19087135M_19334329F  19087135.0   \n",
       "\n",
       "       Female  \n",
       "0   2489527.0  \n",
       "1    349215.0  \n",
       "2   3342840.0  \n",
       "3   1506295.0  \n",
       "4  19334329.0  "
      ]
     },
     "execution_count": 119,
     "metadata": {},
     "output_type": "execute_result"
    }
   ],
   "source": [
    "us_census.head()"
   ]
  },
  {
   "cell_type": "code",
   "execution_count": 79,
   "metadata": {},
   "outputs": [],
   "source": [
    "us_census[\"Hispanic\"] = pd.to_numeric(us_census[\"Hispanic\"], downcast = None)\n",
    "us_census[\"White\"] = pd.to_numeric(us_census[\"White\"], downcast = None)\n",
    "us_census[\"Black\"] = pd.to_numeric(us_census[\"Black\"], downcast = None)\n",
    "us_census[\"Native\"] = pd.to_numeric(us_census[\"Native\"], downcast = None)\n",
    "us_census[\"Asian\"] = pd.to_numeric(us_census[\"Asian\"], downcast = None)\n",
    "us_census[\"Pacific\"] = pd.to_numeric(us_census[\"Pacific\"], downcast = None)\n",
    "us_census[\"Income\"] = pd.to_numeric(us_census[\"Income\"], downcast = None)\n",
    "us_census[\"Male\"] = pd.to_numeric(us_census[\"Male\"], downcast = None)\n",
    "us_census[\"Female\"] = pd.to_numeric(us_census[\"Female\"], downcast = 'signed')\n"
   ]
  },
  {
   "cell_type": "code",
   "execution_count": 91,
   "metadata": {},
   "outputs": [],
   "source": [
    "us_census[\"Female\"] = us_census[\"Female\"].fillna(us_census[\"TotalPop\"] - us_census[\"Male\"])"
   ]
  },
  {
   "cell_type": "code",
   "execution_count": 121,
   "metadata": {},
   "outputs": [],
   "source": [
    "us_census[\"Female\"] = us_census[\"Female\"].astype(int)"
   ]
  },
  {
   "cell_type": "code",
   "execution_count": 122,
   "metadata": {},
   "outputs": [
    {
     "data": {
      "text/plain": [
       "State         object\n",
       "TotalPop       int64\n",
       "Hispanic     float64\n",
       "White        float64\n",
       "Black        float64\n",
       "Native       float64\n",
       "Asian        float64\n",
       "Pacific      float64\n",
       "Income       float64\n",
       "GenderPop     object\n",
       "Male           int32\n",
       "Female         int32\n",
       "dtype: object"
      ]
     },
     "execution_count": 122,
     "metadata": {},
     "output_type": "execute_result"
    }
   ],
   "source": [
    "us_census.dtypes"
   ]
  },
  {
   "cell_type": "code",
   "execution_count": 125,
   "metadata": {},
   "outputs": [
    {
     "data": {
      "image/png": "[encoded data removed]",
      "text/plain": [
       "<Figure size 432x288 with 1 Axes>"
      ]
     },
     "metadata": {},
     "output_type": "display_data"
    }
   ],
   "source": [
    "plt.scatter(us_census[\"Female\"], us_census[\"Income\"])\n",
    "plt.xlabel(\"Female\", size = 18)\n",
    "plt.ylabel(\"Avg. Income\", size = 18)\n",
    "plt.show()"
   ]
  },
  {
   "cell_type": "code",
   "execution_count": null,
   "metadata": {},
   "outputs": [],
   "source": [
    "df = round(us_census.loc[:,\"Hispanic\":\"Pacific\"].apply(lambda x: x*us_census[\"TotalPop\"]/100))"
   ]
  },
  {
   "cell_type": "code",
   "execution_count": 131,
   "metadata": {},
   "outputs": [
    {
     "data": {
      "text/html": [
       "<div>\n",
       "<style scoped>\n",
       "    .dataframe tbody tr th:only-of-type {\n",
       "        vertical-align: middle;\n",
       "    }\n",
       "\n",
       "    .dataframe tbody tr th {\n",
       "        vertical-align: top;\n",
       "    }\n",
       "\n",
       "    .dataframe thead th {\n",
       "        text-align: right;\n",
       "    }\n",
       "</style>\n",
       "<table border=\"1\" class=\"dataframe\">\n",
       "  <thead>\n",
       "    <tr style=\"text-align: right;\">\n",
       "      <th></th>\n",
       "      <th>Hispanic</th>\n",
       "      <th>White</th>\n",
       "      <th>Black</th>\n",
       "      <th>Native</th>\n",
       "      <th>Asian</th>\n",
       "      <th>Pacific</th>\n",
       "    </tr>\n",
       "  </thead>\n",
       "  <tbody>\n",
       "    <tr>\n",
       "      <th>0</th>\n",
       "      <td>181226.0</td>\n",
       "      <td>2989123.0</td>\n",
       "      <td>1509713.0</td>\n",
       "      <td>21894.0</td>\n",
       "      <td>50734.0</td>\n",
       "      <td>1659.0</td>\n",
       "    </tr>\n",
       "    <tr>\n",
       "      <th>1</th>\n",
       "      <td>43339.0</td>\n",
       "      <td>446700.0</td>\n",
       "      <td>20890.0</td>\n",
       "      <td>120208.0</td>\n",
       "      <td>39971.0</td>\n",
       "      <td>7764.0</td>\n",
       "    </tr>\n",
       "    <tr>\n",
       "      <th>2</th>\n",
       "      <td>1963747.0</td>\n",
       "      <td>3793869.0</td>\n",
       "      <td>255780.0</td>\n",
       "      <td>289260.0</td>\n",
       "      <td>191060.0</td>\n",
       "      <td>11134.0</td>\n",
       "    </tr>\n",
       "    <tr>\n",
       "      <th>3</th>\n",
       "      <td>183867.0</td>\n",
       "      <td>2104404.0</td>\n",
       "      <td>561135.0</td>\n",
       "      <td>15469.0</td>\n",
       "      <td>33793.0</td>\n",
       "      <td>4344.0</td>\n",
       "    </tr>\n",
       "    <tr>\n",
       "      <th>4</th>\n",
       "      <td>14328084.0</td>\n",
       "      <td>15451495.0</td>\n",
       "      <td>2181339.0</td>\n",
       "      <td>155719.0</td>\n",
       "      <td>5014859.0</td>\n",
       "      <td>135017.0</td>\n",
       "    </tr>\n",
       "    <tr>\n",
       "      <th>5</th>\n",
       "      <td>1097188.0</td>\n",
       "      <td>3689722.0</td>\n",
       "      <td>187210.0</td>\n",
       "      <td>30292.0</td>\n",
       "      <td>140524.0</td>\n",
       "      <td>NaN</td>\n",
       "    </tr>\n",
       "    <tr>\n",
       "      <th>6</th>\n",
       "      <td>1097188.0</td>\n",
       "      <td>3689722.0</td>\n",
       "      <td>187210.0</td>\n",
       "      <td>30292.0</td>\n",
       "      <td>140524.0</td>\n",
       "      <td>NaN</td>\n",
       "    </tr>\n",
       "    <tr>\n",
       "      <th>7</th>\n",
       "      <td>560716.0</td>\n",
       "      <td>2431787.0</td>\n",
       "      <td>371829.0</td>\n",
       "      <td>4535.0</td>\n",
       "      <td>144519.0</td>\n",
       "      <td>668.0</td>\n",
       "    </tr>\n",
       "    <tr>\n",
       "      <th>8</th>\n",
       "      <td>81757.0</td>\n",
       "      <td>598792.0</td>\n",
       "      <td>192183.0</td>\n",
       "      <td>2407.0</td>\n",
       "      <td>30283.0</td>\n",
       "      <td>NaN</td>\n",
       "    </tr>\n",
       "    <tr>\n",
       "      <th>9</th>\n",
       "      <td>59348.0</td>\n",
       "      <td>214343.0</td>\n",
       "      <td>335245.0</td>\n",
       "      <td>1299.0</td>\n",
       "      <td>21906.0</td>\n",
       "      <td>192.0</td>\n",
       "    </tr>\n",
       "    <tr>\n",
       "      <th>10</th>\n",
       "      <td>4192121.0</td>\n",
       "      <td>11607459.0</td>\n",
       "      <td>2979414.0</td>\n",
       "      <td>41345.0</td>\n",
       "      <td>448547.0</td>\n",
       "      <td>10120.0</td>\n",
       "    </tr>\n",
       "    <tr>\n",
       "      <th>11</th>\n",
       "      <td>842388.0</td>\n",
       "      <td>5432264.0</td>\n",
       "      <td>3210978.0</td>\n",
       "      <td>18771.0</td>\n",
       "      <td>309972.0</td>\n",
       "      <td>4663.0</td>\n",
       "    </tr>\n",
       "    <tr>\n",
       "      <th>12</th>\n",
       "      <td>842388.0</td>\n",
       "      <td>5432264.0</td>\n",
       "      <td>3210978.0</td>\n",
       "      <td>18771.0</td>\n",
       "      <td>309972.0</td>\n",
       "      <td>4663.0</td>\n",
       "    </tr>\n",
       "    <tr>\n",
       "      <th>13</th>\n",
       "      <td>129193.0</td>\n",
       "      <td>352029.0</td>\n",
       "      <td>28869.0</td>\n",
       "      <td>2038.0</td>\n",
       "      <td>514594.0</td>\n",
       "      <td>123176.0</td>\n",
       "    </tr>\n",
       "    <tr>\n",
       "      <th>14</th>\n",
       "      <td>185990.0</td>\n",
       "      <td>1343936.0</td>\n",
       "      <td>9162.0</td>\n",
       "      <td>23733.0</td>\n",
       "      <td>18362.0</td>\n",
       "      <td>2056.0</td>\n",
       "    </tr>\n",
       "    <tr>\n",
       "      <th>15</th>\n",
       "      <td>2008530.0</td>\n",
       "      <td>7834946.0</td>\n",
       "      <td>2202496.0</td>\n",
       "      <td>15246.0</td>\n",
       "      <td>576149.0</td>\n",
       "      <td>2579.0</td>\n",
       "    </tr>\n",
       "    <tr>\n",
       "      <th>16</th>\n",
       "      <td>429376.0</td>\n",
       "      <td>5151913.0</td>\n",
       "      <td>734833.0</td>\n",
       "      <td>12749.0</td>\n",
       "      <td>103671.0</td>\n",
       "      <td>2143.0</td>\n",
       "    </tr>\n",
       "    <tr>\n",
       "      <th>17</th>\n",
       "      <td>164070.0</td>\n",
       "      <td>2713631.0</td>\n",
       "      <td>100756.0</td>\n",
       "      <td>8965.0</td>\n",
       "      <td>52571.0</td>\n",
       "      <td>1707.0</td>\n",
       "    </tr>\n",
       "    <tr>\n",
       "      <th>18</th>\n",
       "      <td>164070.0</td>\n",
       "      <td>2713631.0</td>\n",
       "      <td>100756.0</td>\n",
       "      <td>8965.0</td>\n",
       "      <td>52571.0</td>\n",
       "      <td>1707.0</td>\n",
       "    </tr>\n",
       "    <tr>\n",
       "      <th>19</th>\n",
       "      <td>336869.0</td>\n",
       "      <td>2197463.0</td>\n",
       "      <td>190008.0</td>\n",
       "      <td>21233.0</td>\n",
       "      <td>67437.0</td>\n",
       "      <td>NaN</td>\n",
       "    </tr>\n",
       "    <tr>\n",
       "      <th>20</th>\n",
       "      <td>141726.0</td>\n",
       "      <td>3747897.0</td>\n",
       "      <td>363763.0</td>\n",
       "      <td>7328.0</td>\n",
       "      <td>49683.0</td>\n",
       "      <td>2042.0</td>\n",
       "    </tr>\n",
       "    <tr>\n",
       "      <th>21</th>\n",
       "      <td>225087.0</td>\n",
       "      <td>2542897.0</td>\n",
       "      <td>1680181.0</td>\n",
       "      <td>22400.0</td>\n",
       "      <td>77198.0</td>\n",
       "      <td>1812.0</td>\n",
       "    </tr>\n",
       "    <tr>\n",
       "      <th>22</th>\n",
       "      <td>19032.0</td>\n",
       "      <td>1245465.0</td>\n",
       "      <td>15078.0</td>\n",
       "      <td>10478.0</td>\n",
       "      <td>12837.0</td>\n",
       "      <td>208.0</td>\n",
       "    </tr>\n",
       "    <tr>\n",
       "      <th>23</th>\n",
       "      <td>502465.0</td>\n",
       "      <td>3124151.0</td>\n",
       "      <td>1819356.0</td>\n",
       "      <td>12045.0</td>\n",
       "      <td>315826.0</td>\n",
       "      <td>2152.0</td>\n",
       "    </tr>\n",
       "    <tr>\n",
       "      <th>24</th>\n",
       "      <td>502465.0</td>\n",
       "      <td>3124151.0</td>\n",
       "      <td>1819356.0</td>\n",
       "      <td>12045.0</td>\n",
       "      <td>315826.0</td>\n",
       "      <td>2152.0</td>\n",
       "    </tr>\n",
       "    <tr>\n",
       "      <th>25</th>\n",
       "      <td>768532.0</td>\n",
       "      <td>4897831.0</td>\n",
       "      <td>458201.0</td>\n",
       "      <td>8602.0</td>\n",
       "      <td>391315.0</td>\n",
       "      <td>1328.0</td>\n",
       "    </tr>\n",
       "    <tr>\n",
       "      <th>26</th>\n",
       "      <td>458891.0</td>\n",
       "      <td>7166204.0</td>\n",
       "      <td>1745778.0</td>\n",
       "      <td>47959.0</td>\n",
       "      <td>239902.0</td>\n",
       "      <td>1936.0</td>\n",
       "    </tr>\n",
       "    <tr>\n",
       "      <th>27</th>\n",
       "      <td>279246.0</td>\n",
       "      <td>4412672.0</td>\n",
       "      <td>306715.0</td>\n",
       "      <td>57933.0</td>\n",
       "      <td>225225.0</td>\n",
       "      <td>1783.0</td>\n",
       "    </tr>\n",
       "    <tr>\n",
       "      <th>28</th>\n",
       "      <td>84933.0</td>\n",
       "      <td>1592238.0</td>\n",
       "      <td>1239813.0</td>\n",
       "      <td>11653.0</td>\n",
       "      <td>26189.0</td>\n",
       "      <td>450.0</td>\n",
       "    </tr>\n",
       "    <tr>\n",
       "      <th>29</th>\n",
       "      <td>244070.0</td>\n",
       "      <td>4685710.0</td>\n",
       "      <td>853745.0</td>\n",
       "      <td>21965.0</td>\n",
       "      <td>98208.0</td>\n",
       "      <td>6146.0</td>\n",
       "    </tr>\n",
       "    <tr>\n",
       "      <th>30</th>\n",
       "      <td>244070.0</td>\n",
       "      <td>4685710.0</td>\n",
       "      <td>853745.0</td>\n",
       "      <td>21965.0</td>\n",
       "      <td>98208.0</td>\n",
       "      <td>6146.0</td>\n",
       "    </tr>\n",
       "    <tr>\n",
       "      <th>31</th>\n",
       "      <td>33169.0</td>\n",
       "      <td>876858.0</td>\n",
       "      <td>4356.0</td>\n",
       "      <td>71645.0</td>\n",
       "      <td>5788.0</td>\n",
       "      <td>733.0</td>\n",
       "    </tr>\n",
       "    <tr>\n",
       "      <th>32</th>\n",
       "      <td>172052.0</td>\n",
       "      <td>1516793.0</td>\n",
       "      <td>92650.0</td>\n",
       "      <td>16160.0</td>\n",
       "      <td>34752.0</td>\n",
       "      <td>1068.0</td>\n",
       "    </tr>\n",
       "    <tr>\n",
       "      <th>33</th>\n",
       "      <td>758455.0</td>\n",
       "      <td>1489975.0</td>\n",
       "      <td>216604.0</td>\n",
       "      <td>30426.0</td>\n",
       "      <td>198584.0</td>\n",
       "      <td>16079.0</td>\n",
       "    </tr>\n",
       "    <tr>\n",
       "      <th>34</th>\n",
       "      <td>43989.0</td>\n",
       "      <td>1209249.0</td>\n",
       "      <td>16258.0</td>\n",
       "      <td>1891.0</td>\n",
       "      <td>29019.0</td>\n",
       "      <td>213.0</td>\n",
       "    </tr>\n",
       "    <tr>\n",
       "      <th>35</th>\n",
       "      <td>1669533.0</td>\n",
       "      <td>5029993.0</td>\n",
       "      <td>1281155.0</td>\n",
       "      <td>10270.0</td>\n",
       "      <td>726599.0</td>\n",
       "      <td>2789.0</td>\n",
       "    </tr>\n",
       "    <tr>\n",
       "      <th>36</th>\n",
       "      <td>1669533.0</td>\n",
       "      <td>5029993.0</td>\n",
       "      <td>1281155.0</td>\n",
       "      <td>10270.0</td>\n",
       "      <td>726599.0</td>\n",
       "      <td>2789.0</td>\n",
       "    </tr>\n",
       "    <tr>\n",
       "      <th>37</th>\n",
       "      <td>943749.0</td>\n",
       "      <td>848194.0</td>\n",
       "      <td>36577.0</td>\n",
       "      <td>192752.0</td>\n",
       "      <td>25725.0</td>\n",
       "      <td>891.0</td>\n",
       "    </tr>\n",
       "    <tr>\n",
       "      <th>38</th>\n",
       "      <td>3391935.0</td>\n",
       "      <td>11109462.0</td>\n",
       "      <td>3082402.0</td>\n",
       "      <td>63277.0</td>\n",
       "      <td>1553622.0</td>\n",
       "      <td>4613.0</td>\n",
       "    </tr>\n",
       "    <tr>\n",
       "      <th>39</th>\n",
       "      <td>833384.0</td>\n",
       "      <td>6359854.0</td>\n",
       "      <td>2106421.0</td>\n",
       "      <td>106870.0</td>\n",
       "      <td>228161.0</td>\n",
       "      <td>5152.0</td>\n",
       "    </tr>\n",
       "    <tr>\n",
       "      <th>40</th>\n",
       "      <td>20442.0</td>\n",
       "      <td>631062.0</td>\n",
       "      <td>9269.0</td>\n",
       "      <td>40781.0</td>\n",
       "      <td>6942.0</td>\n",
       "      <td>NaN</td>\n",
       "    </tr>\n",
       "    <tr>\n",
       "      <th>41</th>\n",
       "      <td>425080.0</td>\n",
       "      <td>8786521.0</td>\n",
       "      <td>1876151.0</td>\n",
       "      <td>19550.0</td>\n",
       "      <td>187656.0</td>\n",
       "      <td>2621.0</td>\n",
       "    </tr>\n",
       "    <tr>\n",
       "      <th>42</th>\n",
       "      <td>425080.0</td>\n",
       "      <td>8786521.0</td>\n",
       "      <td>1876151.0</td>\n",
       "      <td>19550.0</td>\n",
       "      <td>187656.0</td>\n",
       "      <td>2621.0</td>\n",
       "    </tr>\n",
       "    <tr>\n",
       "      <th>43</th>\n",
       "      <td>388049.0</td>\n",
       "      <td>2543112.0</td>\n",
       "      <td>320095.0</td>\n",
       "      <td>258580.0</td>\n",
       "      <td>69339.0</td>\n",
       "      <td>4089.0</td>\n",
       "    </tr>\n",
       "    <tr>\n",
       "      <th>44</th>\n",
       "      <td>450696.0</td>\n",
       "      <td>3088182.0</td>\n",
       "      <td>68180.0</td>\n",
       "      <td>39402.0</td>\n",
       "      <td>141612.0</td>\n",
       "      <td>13603.0</td>\n",
       "    </tr>\n",
       "    <tr>\n",
       "      <th>45</th>\n",
       "      <td>783133.0</td>\n",
       "      <td>9889315.0</td>\n",
       "      <td>1486767.0</td>\n",
       "      <td>15242.0</td>\n",
       "      <td>357540.0</td>\n",
       "      <td>2478.0</td>\n",
       "    </tr>\n",
       "    <tr>\n",
       "      <th>46</th>\n",
       "      <td>3543429.0</td>\n",
       "      <td>27719.0</td>\n",
       "      <td>3316.0</td>\n",
       "      <td>101.0</td>\n",
       "      <td>2694.0</td>\n",
       "      <td>44.0</td>\n",
       "    </tr>\n",
       "    <tr>\n",
       "      <th>47</th>\n",
       "      <td>140734.0</td>\n",
       "      <td>783138.0</td>\n",
       "      <td>59879.0</td>\n",
       "      <td>3648.0</td>\n",
       "      <td>34218.0</td>\n",
       "      <td>378.0</td>\n",
       "    </tr>\n",
       "    <tr>\n",
       "      <th>48</th>\n",
       "      <td>140734.0</td>\n",
       "      <td>783138.0</td>\n",
       "      <td>59879.0</td>\n",
       "      <td>3648.0</td>\n",
       "      <td>34218.0</td>\n",
       "      <td>378.0</td>\n",
       "    </tr>\n",
       "    <tr>\n",
       "      <th>49</th>\n",
       "      <td>241587.0</td>\n",
       "      <td>3004557.0</td>\n",
       "      <td>1373597.0</td>\n",
       "      <td>13970.0</td>\n",
       "      <td>59680.0</td>\n",
       "      <td>2244.0</td>\n",
       "    </tr>\n",
       "    <tr>\n",
       "      <th>50</th>\n",
       "      <td>27316.0</td>\n",
       "      <td>695639.0</td>\n",
       "      <td>12006.0</td>\n",
       "      <td>79408.0</td>\n",
       "      <td>8595.0</td>\n",
       "      <td>353.0</td>\n",
       "    </tr>\n",
       "    <tr>\n",
       "      <th>51</th>\n",
       "      <td>306784.0</td>\n",
       "      <td>4776573.0</td>\n",
       "      <td>1188378.0</td>\n",
       "      <td>14730.0</td>\n",
       "      <td>91468.0</td>\n",
       "      <td>2805.0</td>\n",
       "    </tr>\n",
       "    <tr>\n",
       "      <th>52</th>\n",
       "      <td>10097077.0</td>\n",
       "      <td>11859552.0</td>\n",
       "      <td>3091761.0</td>\n",
       "      <td>69304.0</td>\n",
       "      <td>973886.0</td>\n",
       "      <td>18263.0</td>\n",
       "    </tr>\n",
       "    <tr>\n",
       "      <th>53</th>\n",
       "      <td>391038.0</td>\n",
       "      <td>2305481.0</td>\n",
       "      <td>29555.0</td>\n",
       "      <td>31396.0</td>\n",
       "      <td>63760.0</td>\n",
       "      <td>23981.0</td>\n",
       "    </tr>\n",
       "    <tr>\n",
       "      <th>54</th>\n",
       "      <td>391038.0</td>\n",
       "      <td>2305481.0</td>\n",
       "      <td>29555.0</td>\n",
       "      <td>31396.0</td>\n",
       "      <td>63760.0</td>\n",
       "      <td>23981.0</td>\n",
       "    </tr>\n",
       "    <tr>\n",
       "      <th>55</th>\n",
       "      <td>10084.0</td>\n",
       "      <td>588902.0</td>\n",
       "      <td>6146.0</td>\n",
       "      <td>1890.0</td>\n",
       "      <td>7762.0</td>\n",
       "      <td>192.0</td>\n",
       "    </tr>\n",
       "    <tr>\n",
       "      <th>56</th>\n",
       "      <td>661440.0</td>\n",
       "      <td>5224056.0</td>\n",
       "      <td>1665857.0</td>\n",
       "      <td>17541.0</td>\n",
       "      <td>450419.0</td>\n",
       "      <td>5343.0</td>\n",
       "    </tr>\n",
       "    <tr>\n",
       "      <th>57</th>\n",
       "      <td>778248.0</td>\n",
       "      <td>5032217.0</td>\n",
       "      <td>236418.0</td>\n",
       "      <td>98546.0</td>\n",
       "      <td>490520.0</td>\n",
       "      <td>42604.0</td>\n",
       "    </tr>\n",
       "    <tr>\n",
       "      <th>58</th>\n",
       "      <td>23900.0</td>\n",
       "      <td>1706569.0</td>\n",
       "      <td>67814.0</td>\n",
       "      <td>2827.0</td>\n",
       "      <td>12635.0</td>\n",
       "      <td>490.0</td>\n",
       "    </tr>\n",
       "    <tr>\n",
       "      <th>59</th>\n",
       "      <td>383765.0</td>\n",
       "      <td>4585885.0</td>\n",
       "      <td>470577.0</td>\n",
       "      <td>54760.0</td>\n",
       "      <td>138054.0</td>\n",
       "      <td>1196.0</td>\n",
       "    </tr>\n",
       "  </tbody>\n",
       "</table>\n",
       "</div>"
      ],
      "text/plain": [
       "      Hispanic       White      Black    Native      Asian   Pacific\n",
       "0     181226.0   2989123.0  1509713.0   21894.0    50734.0    1659.0\n",
       "1      43339.0    446700.0    20890.0  120208.0    39971.0    7764.0\n",
       "2    1963747.0   3793869.0   255780.0  289260.0   191060.0   11134.0\n",
       "3     183867.0   2104404.0   561135.0   15469.0    33793.0    4344.0\n",
       "4   14328084.0  15451495.0  2181339.0  155719.0  5014859.0  135017.0\n",
       "5    1097188.0   3689722.0   187210.0   30292.0   140524.0       NaN\n",
       "6    1097188.0   3689722.0   187210.0   30292.0   140524.0       NaN\n",
       "7     560716.0   2431787.0   371829.0    4535.0   144519.0     668.0\n",
       "8      81757.0    598792.0   192183.0    2407.0    30283.0       NaN\n",
       "9      59348.0    214343.0   335245.0    1299.0    21906.0     192.0\n",
       "10   4192121.0  11607459.0  2979414.0   41345.0   448547.0   10120.0\n",
       "11    842388.0   5432264.0  3210978.0   18771.0   309972.0    4663.0\n",
       "12    842388.0   5432264.0  3210978.0   18771.0   309972.0    4663.0\n",
       "13    129193.0    352029.0    28869.0    2038.0   514594.0  123176.0\n",
       "14    185990.0   1343936.0     9162.0   23733.0    18362.0    2056.0\n",
       "15   2008530.0   7834946.0  2202496.0   15246.0   576149.0    2579.0\n",
       "16    429376.0   5151913.0   734833.0   12749.0   103671.0    2143.0\n",
       "17    164070.0   2713631.0   100756.0    8965.0    52571.0    1707.0\n",
       "18    164070.0   2713631.0   100756.0    8965.0    52571.0    1707.0\n",
       "19    336869.0   2197463.0   190008.0   21233.0    67437.0       NaN\n",
       "20    141726.0   3747897.0   363763.0    7328.0    49683.0    2042.0\n",
       "21    225087.0   2542897.0  1680181.0   22400.0    77198.0    1812.0\n",
       "22     19032.0   1245465.0    15078.0   10478.0    12837.0     208.0\n",
       "23    502465.0   3124151.0  1819356.0   12045.0   315826.0    2152.0\n",
       "24    502465.0   3124151.0  1819356.0   12045.0   315826.0    2152.0\n",
       "25    768532.0   4897831.0   458201.0    8602.0   391315.0    1328.0\n",
       "26    458891.0   7166204.0  1745778.0   47959.0   239902.0    1936.0\n",
       "27    279246.0   4412672.0   306715.0   57933.0   225225.0    1783.0\n",
       "28     84933.0   1592238.0  1239813.0   11653.0    26189.0     450.0\n",
       "29    244070.0   4685710.0   853745.0   21965.0    98208.0    6146.0\n",
       "30    244070.0   4685710.0   853745.0   21965.0    98208.0    6146.0\n",
       "31     33169.0    876858.0     4356.0   71645.0     5788.0     733.0\n",
       "32    172052.0   1516793.0    92650.0   16160.0    34752.0    1068.0\n",
       "33    758455.0   1489975.0   216604.0   30426.0   198584.0   16079.0\n",
       "34     43989.0   1209249.0    16258.0    1891.0    29019.0     213.0\n",
       "35   1669533.0   5029993.0  1281155.0   10270.0   726599.0    2789.0\n",
       "36   1669533.0   5029993.0  1281155.0   10270.0   726599.0    2789.0\n",
       "37    943749.0    848194.0    36577.0  192752.0    25725.0     891.0\n",
       "38   3391935.0  11109462.0  3082402.0   63277.0  1553622.0    4613.0\n",
       "39    833384.0   6359854.0  2106421.0  106870.0   228161.0    5152.0\n",
       "40     20442.0    631062.0     9269.0   40781.0     6942.0       NaN\n",
       "41    425080.0   8786521.0  1876151.0   19550.0   187656.0    2621.0\n",
       "42    425080.0   8786521.0  1876151.0   19550.0   187656.0    2621.0\n",
       "43    388049.0   2543112.0   320095.0  258580.0    69339.0    4089.0\n",
       "44    450696.0   3088182.0    68180.0   39402.0   141612.0   13603.0\n",
       "45    783133.0   9889315.0  1486767.0   15242.0   357540.0    2478.0\n",
       "46   3543429.0     27719.0     3316.0     101.0     2694.0      44.0\n",
       "47    140734.0    783138.0    59879.0    3648.0    34218.0     378.0\n",
       "48    140734.0    783138.0    59879.0    3648.0    34218.0     378.0\n",
       "49    241587.0   3004557.0  1373597.0   13970.0    59680.0    2244.0\n",
       "50     27316.0    695639.0    12006.0   79408.0     8595.0     353.0\n",
       "51    306784.0   4776573.0  1188378.0   14730.0    91468.0    2805.0\n",
       "52  10097077.0  11859552.0  3091761.0   69304.0   973886.0   18263.0\n",
       "53    391038.0   2305481.0    29555.0   31396.0    63760.0   23981.0\n",
       "54    391038.0   2305481.0    29555.0   31396.0    63760.0   23981.0\n",
       "55     10084.0    588902.0     6146.0    1890.0     7762.0     192.0\n",
       "56    661440.0   5224056.0  1665857.0   17541.0   450419.0    5343.0\n",
       "57    778248.0   5032217.0   236418.0   98546.0   490520.0   42604.0\n",
       "58     23900.0   1706569.0    67814.0    2827.0    12635.0     490.0\n",
       "59    383765.0   4585885.0   470577.0   54760.0   138054.0    1196.0"
      ]
     },
     "execution_count": 131,
     "metadata": {},
     "output_type": "execute_result"
    }
   ],
   "source": [
    "df"
   ]
  },
  {
   "cell_type": "code",
   "execution_count": 134,
   "metadata": {},
   "outputs": [
    {
     "data": {
      "text/plain": [
       "Hispanic    False\n",
       "White       False\n",
       "Black       False\n",
       "Native      False\n",
       "Asian       False\n",
       "Pacific      True\n",
       "dtype: bool"
      ]
     },
     "execution_count": 134,
     "metadata": {},
     "output_type": "execute_result"
    }
   ],
   "source": [
    "df.isnull().any()"
   ]
  },
  {
   "cell_type": "code",
   "execution_count": 137,
   "metadata": {},
   "outputs": [],
   "source": [
    "df.fillna(method = \"bfill\", inplace = True)"
   ]
  },
  {
   "cell_type": "code",
   "execution_count": 95,
   "metadata": {},
   "outputs": [
    {
     "data": {
      "image/png": "[encoded data removed]",
      "text/plain": [
       "<Figure size 432x288 with 1 Axes>"
      ]
     },
     "metadata": {},
     "output_type": "display_data"
    }
   ],
   "source": [
    "plt.style.use('ggplot')\n",
    "plt.hist(us_census[\"TotalPop\"], bins = 10)\n",
    "plt.show()"
   ]
  },
  {
   "cell_type": "code",
   "execution_count": 96,
   "metadata": {},
   "outputs": [
    {
     "data": {
      "image/png": "[encoded data removed]",
      "text/plain": [
       "<Figure size 432x288 with 1 Axes>"
      ]
     },
     "metadata": {},
     "output_type": "display_data"
    }
   ],
   "source": [
    "plt.style.use('ggplot')\n",
    "plt.hist(us_census[\"Hispanic\"], bins = 10)\n",
    "plt.show()"
   ]
  },
  {
   "cell_type": "code",
   "execution_count": 103,
   "metadata": {},
   "outputs": [
    {
     "data": {
      "image/png": "[encoded data removed]",
      "text/plain": [
       "<Figure size 432x288 with 1 Axes>"
      ]
     },
     "metadata": {},
     "output_type": "display_data"
    }
   ],
   "source": [
    "plt.style.use('ggplot')\n",
    "plt.hist(us_census[\"White\"], bins = 10, color = \"green\")\n",
    "plt.show()"
   ]
  },
  {
   "cell_type": "code",
   "execution_count": 101,
   "metadata": {},
   "outputs": [
    {
     "data": {
      "image/png": "[encoded data removed]",
      "text/plain": [
       "<Figure size 432x288 with 1 Axes>"
      ]
     },
     "metadata": {},
     "output_type": "display_data"
    }
   ],
   "source": [
    "plt.hist(us_census[\"Black\"], bins = 10, color = \"black\")\n",
    "plt.show()"
   ]
  },
  {
   "cell_type": "code",
   "execution_count": 104,
   "metadata": {},
   "outputs": [
    {
     "data": {
      "image/png": "[encoded data removed]",
      "text/plain": [
       "<Figure size 432x288 with 1 Axes>"
      ]
     },
     "metadata": {},
     "output_type": "display_data"
    }
   ],
   "source": [
    "plt.hist(us_census[\"Native\"], bins = 10, color = \"blue\")\n",
    "plt.show()"
   ]
  },
  {
   "cell_type": "code",
   "execution_count": 105,
   "metadata": {},
   "outputs": [
    {
     "data": {
      "image/png": "[encoded data removed]",
      "text/plain": [
       "<Figure size 432x288 with 1 Axes>"
      ]
     },
     "metadata": {},
     "output_type": "display_data"
    }
   ],
   "source": [
    "plt.hist(us_census[\"Asian\"], bins = 10, color = \"brown\")\n",
    "plt.show()"
   ]
  },
  {
   "cell_type": "code",
   "execution_count": 107,
   "metadata": {},
   "outputs": [
    {
     "data": {
      "image/png": "[encoded data removed]",
      "text/plain": [
       "<Figure size 432x288 with 1 Axes>"
      ]
     },
     "metadata": {},
     "output_type": "display_data"
    }
   ],
   "source": [
    "plt.hist(us_census[\"Pacific\"], bins = 10, color = \"red\")\n",
    "plt.show()"
   ]
  },
  {
   "cell_type": "code",
   "execution_count": 109,
   "metadata": {},
   "outputs": [
    {
     "data": {
      "image/png": "[encoded data removed]",
      "text/plain": [
       "<Figure size 432x288 with 1 Axes>"
      ]
     },
     "metadata": {},
     "output_type": "display_data"
    }
   ],
   "source": [
    "plt.hist(us_census[\"Income\"], bins = 10, color = \"orange\")\n",
    "plt.show()"
   ]
  },
  {
   "cell_type": "code",
   "execution_count": 113,
   "metadata": {},
   "outputs": [
    {
     "data": {
      "image/png": "[encoded data removed]",
      "text/plain": [
       "<Figure size 432x288 with 1 Axes>"
      ]
     },
     "metadata": {},
     "output_type": "display_data"
    }
   ],
   "source": [
    "plt.hist(us_census[\"Male\"], bins = 10, color = \"blue\")\n",
    "plt.show()"
   ]
  },
  {
   "cell_type": "code",
   "execution_count": 112,
   "metadata": {},
   "outputs": [
    {
     "data": {
      "image/png": "[encoded data removed]",
      "text/plain": [
       "<Figure size 432x288 with 1 Axes>"
      ]
     },
     "metadata": {},
     "output_type": "display_data"
    }
   ],
   "source": [
    "plt.hist(us_census[\"Female\"], bins = 10, color = \"pink\")\n",
    "plt.show()"
   ]
  },
  {
   "cell_type": "code",
   "execution_count": null,
   "metadata": {},
   "outputs": [],
   "source": []
  },
  {
   "cell_type": "code",
   "execution_count": null,
   "metadata": {},
   "outputs": [],
   "source": []
  }
 ],
 "metadata": {
  "kernelspec": {
   "display_name": "Python 3",
   "language": "python",
   "name": "python3"
  },
  "language_info": {
   "codemirror_mode": {
    "name": "ipython",
    "version": 3
   },
   "file_extension": ".py",
   "mimetype": "text/x-python",
   "name": "python",
   "nbconvert_exporter": "python",
   "pygments_lexer": "ipython3",
   "version": "3.7.6"
  }
 },
 "nbformat": 4,
 "nbformat_minor": 4
}
